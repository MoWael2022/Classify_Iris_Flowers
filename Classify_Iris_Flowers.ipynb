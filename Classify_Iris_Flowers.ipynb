{
  "nbformat": 4,
  "nbformat_minor": 0,
  "metadata": {
    "colab": {
      "provenance": [],
      "authorship_tag": "ABX9TyNCSXqPqPfVEsi9hO2QxgAB"
    },
    "kernelspec": {
      "name": "python3",
      "display_name": "Python 3"
    },
    "language_info": {
      "name": "python"
    }
  },
  "cells": [
    {
      "cell_type": "code",
      "execution_count": null,
      "metadata": {
        "id": "ShK1PyLBRWFo"
      },
      "outputs": [],
      "source": [
        "import numpy as np\n",
        "import matplotlib.pyplot as plt\n",
        "from sklearn import datasets,neighbors\n",
        "from sklearn import metrics\n",
        "from sklearn.model_selection import train_test_split\n",
        "from sklearn.linear_model import LogisticRegression\n",
        "from sklearn.metrics import mean_squared_error, r2_score\n",
        "from sklearn.preprocessing import StandardScaler\n",
        "import pandas as pd"
      ]
    },
    {
      "cell_type": "markdown",
      "source": [
        "get data"
      ],
      "metadata": {
        "id": "nvlh19UKAi6g"
      }
    },
    {
      "cell_type": "code",
      "source": [
        "x,y = datasets.load_iris(return_X_y=True)\n"
      ],
      "metadata": {
        "id": "dwUCMHuRR0Aa"
      },
      "execution_count": null,
      "outputs": []
    },
    {
      "cell_type": "markdown",
      "source": [
        "feature scaling"
      ],
      "metadata": {
        "id": "rYrpIMDWAnwg"
      }
    },
    {
      "cell_type": "code",
      "source": [
        "x_normalizer = StandardScaler()\n",
        "x_norm =x_normalizer.fit_transform(x)\n"
      ],
      "metadata": {
        "id": "cLU2dtDXVOlk"
      },
      "execution_count": null,
      "outputs": []
    },
    {
      "cell_type": "markdown",
      "source": [
        "spliting data into train and test"
      ],
      "metadata": {
        "id": "G9L3_DxEBHb3"
      }
    },
    {
      "cell_type": "code",
      "source": [
        "x_train , x_test ,y_train ,y_test =train_test_split(x_norm,y,test_size=0.2, random_state=42,stratify=y)"
      ],
      "metadata": {
        "id": "dwlwJweiBFbn"
      },
      "execution_count": null,
      "outputs": []
    },
    {
      "cell_type": "markdown",
      "source": [
        "model and evalute using KNN"
      ],
      "metadata": {
        "id": "-2GqCh2RBd6g"
      }
    },
    {
      "cell_type": "code",
      "source": [
        "knn_model = neighbors.KNeighborsClassifier(n_neighbors=7)\n",
        "knn_model.fit(x_train,y_train)\n",
        "\n",
        "y_pred= knn_model.predict(x_test)\n",
        "print(f\"The Accuracy for KNN: {metrics.accuracy_score(y_test, y_pred):.2f}\")\n",
        "\n",
        "plt.scatter(y_test, y_pred)\n",
        "plt.plot(y_test, y_test, color='red')\n",
        "plt.xlabel('y-test data')\n",
        "plt.ylabel('predicted data (polynomial)')\n",
        "plt.show()"
      ],
      "metadata": {
        "id": "unSr_IfJZJfk"
      },
      "execution_count": null,
      "outputs": []
    },
    {
      "cell_type": "markdown",
      "source": [
        "model and evalute using Logistic regression"
      ],
      "metadata": {
        "id": "6zZPX3J9B3Wy"
      }
    },
    {
      "cell_type": "code",
      "source": [
        "\n",
        "c = LogisticRegression()\n",
        "c.fit(x_train,y_train)\n",
        "\n",
        "y_pred = c.predict(x_test)\n",
        "\n",
        "\n",
        "print(f\"The Accuracy for Logistic Regression: {metrics.accuracy_score(y_test, y_pred):.2f}\")\n",
        "\n",
        "plt.scatter(y_test, y_pred)\n",
        "plt.plot(y_test, y_test, color='red')\n",
        "plt.xlabel('y-test data')\n",
        "plt.ylabel('predicted data (polynomial)')\n",
        "plt.show()"
      ],
      "metadata": {
        "id": "iJI--wVBY4bU"
      },
      "execution_count": null,
      "outputs": []
    }
  ]
}